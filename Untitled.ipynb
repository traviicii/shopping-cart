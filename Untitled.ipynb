{
 "cells": [
  {
   "cell_type": "markdown",
   "id": "de99bf5e",
   "metadata": {},
   "source": [
    "1) Build a Shopping Cart\n",
    "You can use either lists or dictionaries. The program should have the following capabilities:\n",
    "\n",
    "1) Takes in input\n",
    "2) Stores user input into a dictionary or list\n",
    "3) The User can add or delete items\n",
    "4) The User can see current shopping list\n",
    "5) The program Loops until user 'quits'\n",
    "6) Upon quiting the program, print out all items in the user's list"
   ]
  },
  {
   "cell_type": "code",
   "execution_count": 6,
   "id": "37e469f4",
   "metadata": {},
   "outputs": [],
   "source": [
    "import time\n",
    "\n",
    "def checkout(cart):\n",
    "    \n",
    "    total =  0\n",
    "    \n",
    "    print(\"Items ---------- Price\\n\")\n",
    "    for item in cart:\n",
    "        if cart[item][0] == 0:\n",
    "            continue\n",
    "        else:\n",
    "            print(f\"cart['item'][0] {item} --------- {cart[item][1]}\"\")\n",
    "                  \n",
    "    return\n",
    "        \n",
    "\n",
    "products = {\n",
    "    'eggs': [0, 4.99],\n",
    "    'milk': [0, 4.38],\n",
    "    'bread': [0, 3.00],\n",
    "    \n",
    "}\n",
    "\n",
    "products['eggs'][0] = 5\n",
    "print(products['eggs'])\n",
    "\n",
    "def initiate_cart()\n",
    "                  \n",
    "    action = input(\"What would you like to do? (add/remove/view/quit): \")\n",
    "\n",
    "    while True:\n",
    "    \n",
    "        action = input(\"What would you like to do? (add/remove/view/quit): \")\n",
    "        if action.lower() == \"quit\":\n",
    "                  checkout(products)\n",
    "                  break\n",
    "        elif action.lower() == 'add':\n",
    "                  additem = input(\"What item would you like to add? \")\n",
    "                  if additem not in products:\n",
    "                      products[additem] = [input(\"How many? \"), input(\"Please scan product- (enter price)\")]\n",
    "                  \n"
   ]
  }
 ],
 "metadata": {
  "kernelspec": {
   "display_name": "Python 3 (ipykernel)",
   "language": "python",
   "name": "python3"
  },
  "language_info": {
   "codemirror_mode": {
    "name": "ipython",
    "version": 3
   },
   "file_extension": ".py",
   "mimetype": "text/x-python",
   "name": "python",
   "nbconvert_exporter": "python",
   "pygments_lexer": "ipython3",
   "version": "3.9.7"
  }
 },
 "nbformat": 4,
 "nbformat_minor": 5
}
