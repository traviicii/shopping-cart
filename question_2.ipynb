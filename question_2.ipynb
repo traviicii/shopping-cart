{
 "cells": [
  {
   "cell_type": "code",
   "execution_count": 6,
   "id": "e92e80bf",
   "metadata": {},
   "outputs": [
    {
     "name": "stdout",
     "output_type": "stream",
     "text": [
      "600\n",
      "28.26\n"
     ]
    }
   ],
   "source": [
    "import mypackage\n",
    "\n",
    "print(mypackage.area51(20,30))\n",
    "\n",
    "print(mypackage.circ(3))"
   ]
  }
 ],
 "metadata": {
  "kernelspec": {
   "display_name": "Python 3 (ipykernel)",
   "language": "python",
   "name": "python3"
  },
  "language_info": {
   "codemirror_mode": {
    "name": "ipython",
    "version": 3
   },
   "file_extension": ".py",
   "mimetype": "text/x-python",
   "name": "python",
   "nbconvert_exporter": "python",
   "pygments_lexer": "ipython3",
   "version": "3.9.7"
  }
 },
 "nbformat": 4,
 "nbformat_minor": 5
}
